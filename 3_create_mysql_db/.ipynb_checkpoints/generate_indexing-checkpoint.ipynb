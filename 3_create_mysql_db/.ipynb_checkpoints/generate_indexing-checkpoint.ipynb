{
 "cells": [
  {
   "cell_type": "code",
   "execution_count": 1,
   "metadata": {},
   "outputs": [],
   "source": [
    "import json"
   ]
  },
  {
   "cell_type": "code",
   "execution_count": 2,
   "metadata": {},
   "outputs": [],
   "source": [
    "template_index_json = {}\n",
    "\n",
    "with open('sql_result.txt', encoding='utf-8') as file:\n",
    "    for line in file:\n",
    "        parts = line.split(\"\\t\")\n",
    "        \n",
    "        key = parts[0].replace(\" \", \"_\")\n",
    "        if key not in template_index_json:\n",
    "            template_index_json[key] = [list(), list()]\n",
    "        \n",
    "        _id = int(parts[1])\n",
    "        template_index_json[key][0].append(_id)\n",
    "        timestamp = int(parts[2])\n",
    "        template_index_json[key][1].append(timestamp)"
   ]
  },
  {
   "cell_type": "code",
   "execution_count": 3,
   "metadata": {},
   "outputs": [],
   "source": [
    "json_string = json.dumps(template_index_json, ensure_ascii=False).encode('utf8')\n",
    "\n",
    "with open('modules_title_index.json', 'wb') as f:\n",
    "    f.write(json_string)    "
   ]
  },
  {
   "cell_type": "code",
   "execution_count": null,
   "metadata": {},
   "outputs": [],
   "source": []
  }
 ],
 "metadata": {
  "kernelspec": {
   "display_name": "Python 3",
   "language": "python",
   "name": "python3"
  },
  "language_info": {
   "codemirror_mode": {
    "name": "ipython",
    "version": 3
   },
   "file_extension": ".py",
   "mimetype": "text/x-python",
   "name": "python",
   "nbconvert_exporter": "python",
   "pygments_lexer": "ipython3",
   "version": "3.7.1"
  }
 },
 "nbformat": 4,
 "nbformat_minor": 2
}
