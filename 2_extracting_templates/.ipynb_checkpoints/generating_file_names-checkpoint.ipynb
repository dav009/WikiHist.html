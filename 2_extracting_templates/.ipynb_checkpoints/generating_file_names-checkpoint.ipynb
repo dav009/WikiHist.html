{
 "cells": [
  {
   "cell_type": "code",
   "execution_count": 1,
   "metadata": {},
   "outputs": [],
   "source": [
    "file = open(\"tmp.txt\", 'r')\n",
    "\n",
    "files = []\n",
    "for i, line in enumerate(file):\n",
    "    if i == 0:\n",
    "        continue\n",
    "    files.append(line.split()[7])"
   ]
  },
  {
   "cell_type": "code",
   "execution_count": 2,
   "metadata": {
    "scrolled": true
   },
   "outputs": [
    {
     "data": {
      "text/plain": [
       "['tmp/100',\n",
       " 'tmp/150',\n",
       " 'tmp/200',\n",
       " 'tmp/250',\n",
       " 'tmp/300',\n",
       " 'tmp/350',\n",
       " 'tmp/400',\n",
       " 'tmp/450',\n",
       " 'tmp/472',\n",
       " 'tmp/50']"
      ]
     },
     "execution_count": 2,
     "metadata": {},
     "output_type": "execute_result"
    }
   ],
   "source": [
    "files"
   ]
  },
  {
   "cell_type": "code",
   "execution_count": 9,
   "metadata": {},
   "outputs": [
    {
     "name": "stdout",
     "output_type": "stream",
     "text": [
      "Found 11000101 revisions of templates and modules\n"
     ]
    }
   ],
   "source": []
  },
  {
   "cell_type": "code",
   "execution_count": null,
   "metadata": {},
   "outputs": [],
   "source": []
  }
 ],
 "metadata": {
  "kernelspec": {
   "display_name": "Python [conda env:data_science_36]",
   "language": "python",
   "name": "conda-env-data_science_36-py"
  },
  "language_info": {
   "codemirror_mode": {
    "name": "ipython",
    "version": 3
   },
   "file_extension": ".py",
   "mimetype": "text/x-python",
   "name": "python",
   "nbconvert_exporter": "python",
   "pygments_lexer": "ipython3",
   "version": "3.6.8"
  }
 },
 "nbformat": 4,
 "nbformat_minor": 2
}
